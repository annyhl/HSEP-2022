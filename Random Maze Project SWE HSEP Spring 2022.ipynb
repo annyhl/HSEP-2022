{
 "cells": [
  {
   "cell_type": "markdown",
   "id": "039c4954",
   "metadata": {},
   "source": [
    "# Spring 2022 SWE High School Engineering Program\n",
    "## Project: Random Maze"
   ]
  },
  {
   "cell_type": "markdown",
   "id": "d73b5e1c",
   "metadata": {},
   "source": [
    "### Description\n",
    "\n",
    "In this project, you will write a computer code to generate a random maze using a recursive algorithm. You will also write a code to find a path between two points in a given maze.\n",
    "\n",
    "The integer `n` specifies the size of the `n`-by-`n` array of cells in the maze. Note the matrix indices `i,j` specify the $x$ and $y$-coordinates, respectively (see plot below).\n",
    "\n",
    "The horizontal and the vertical *interior* walls of the maze are described by the arrays:\n",
    "\n",
    "- `H`, Bool array of size `n`-by-`n-1`\n",
    "- `V`, Bool array of size `n-1`-by-`n`\n",
    "\n",
    "These arrays specify if there is a wall or not between two neighboring cells.\n",
    "\n",
    "An example is given below, with $n=6$:"
   ]
  },
  {
   "cell_type": "code",
   "execution_count": 1,
   "id": "72cd1178",
   "metadata": {},
   "outputs": [],
   "source": [
    "H = Bool[0 1 0 0 0; 1 0 1 0 0; 0 1 1 0 0; 1 1 1 0 1; 0 1 0 1 1; 1 0 0 0 0];\n",
    "V = Bool[1 0 1 1 1 0; 0 1 0 0 1 1; 0 0 0 0 1 0; 0 1 0 1 0 0; 0 0 1 0 1 0];"
   ]
  },
  {
   "cell_type": "markdown",
   "id": "bd028a25",
   "metadata": {},
   "source": [
    "and the following helper functions can be used to plot the maze:"
   ]
  },
  {
   "cell_type": "code",
   "execution_count": 2,
   "id": "bbd3b65b",
   "metadata": {},
   "outputs": [
    {
     "data": {
      "text/plain": [
       "plot_cell_indices (generic function with 1 method)"
      ]
     },
     "execution_count": 2,
     "metadata": {},
     "output_type": "execute_result"
    }
   ],
   "source": [
    "using PyPlot, Random\n",
    "\n",
    "function plot_maze(H,V)\n",
    "    clf()\n",
    "    axis(\"off\")\n",
    "    axis(\"equal\")\n",
    "    n = size(H,1)\n",
    "    plot([0,n,n,0,0], [0,0,n,n,0], color=\"k\")\n",
    "    \n",
    "    for x = 1:n-1, y = 1:n\n",
    "        if V[x,y]\n",
    "            plot([x,x], [y-1,y], color=\"k\")\n",
    "        end\n",
    "    end\n",
    "    for x = 1:n, y = 1:n-1\n",
    "        if H[x,y]\n",
    "            plot([x-1,x], [y,y], color=\"k\")\n",
    "        end\n",
    "    end\n",
    "end\n",
    "\n",
    "function plot_cell_indices(n)\n",
    "    for i = 1:n\n",
    "        for j = 1:n\n",
    "            text(i-0.5, j-0.5, \"($i,$j)\",\n",
    "                horizontalalignment=\"center\",\n",
    "                verticalalignment=\"center\",\n",
    "                fontsize=8)\n",
    "        end\n",
    "    end\n",
    "end"
   ]
  },
  {
   "cell_type": "code",
   "execution_count": 4,
   "id": "48afe753",
   "metadata": {},
   "outputs": [
    {
     "data": {
      "text/plain": [
       "6×5 Matrix{Bool}:\n",
       " 0  1  0  0  0\n",
       " 1  0  1  0  0\n",
       " 0  1  1  0  0\n",
       " 1  1  1  0  1\n",
       " 0  1  0  1  1\n",
       " 1  0  0  0  0"
      ]
     },
     "execution_count": 4,
     "metadata": {},
     "output_type": "execute_result"
    }
   ],
   "source": [
    "H"
   ]
  },
  {
   "cell_type": "code",
   "execution_count": 7,
   "id": "90323c45",
   "metadata": {},
   "outputs": [
    {
     "data": {
      "text/plain": [
       "5×6 Matrix{Bool}:\n",
       " 1  0  1  1  1  0\n",
       " 0  1  0  0  1  1\n",
       " 0  0  0  0  1  0\n",
       " 0  1  0  1  0  0\n",
       " 0  0  1  0  1  0"
      ]
     },
     "execution_count": 7,
     "metadata": {},
     "output_type": "execute_result"
    }
   ],
   "source": [
    "V"
   ]
  },
  {
   "cell_type": "code",
   "execution_count": 3,
   "id": "9c606c73",
   "metadata": {},
   "outputs": [
    {
     "data": {
      "image/png": "[encoded data removed]",
      "text/plain": [
       "Figure(PyObject <Figure size 640x480 with 1 Axes>)"
      ]
     },
     "metadata": {},
     "output_type": "display_data"
    }
   ],
   "source": [
    "plot_maze(H,V)\n",
    "plot_cell_indices(size(H,1))"
   ]
  },
  {
   "cell_type": "markdown",
   "id": "11f3c219",
   "metadata": {},
   "source": [
    "In addition, we will find paths between the points `1,n` and `n,1`, which can be stored in two arrays of integers. For the example above, this path is given by"
   ]
  },
  {
   "cell_type": "code",
   "execution_count": 42,
   "id": "2913b0d0",
   "metadata": {},
   "outputs": [],
   "source": [
    "x = [6, 5, 5, 6, 6, 6, 6, 6, 5, 4, 3, 3, 3, 2, 2, 2, 1];\n",
    "y = [1, 1, 2, 2, 3, 4, 5, 6, 6, 6, 6, 5, 4, 4, 5, 6, 6];"
   ]
  },
  {
   "cell_type": "markdown",
   "id": "e0361c0a",
   "metadata": {},
   "source": [
    "and it can be plotted along with the maze using the commands:"
   ]
  },
  {
   "cell_type": "code",
   "execution_count": 43,
   "id": "8e04afdd",
   "metadata": {},
   "outputs": [
    {
     "data": {
      "image/png": "[encoded data removed]",
      "text/plain": [
       "Figure(PyObject <Figure size 640x480 with 1 Axes>)"
      ]
     },
     "metadata": {},
     "output_type": "display_data"
    }
   ],
   "source": [
    "plot_maze(H,V);\n",
    "plot(x .- 0.5, y .- 0.5, color=\"r\", linewidth=4);"
   ]
  },
  {
   "cell_type": "markdown",
   "id": "07c1b01a",
   "metadata": {},
   "source": [
    "### Problem 1 - Generate random maze\n",
    "\n",
    "Write a function with the syntax\n",
    "\n",
    "```julia\n",
    "H,V = make_maze(n)\n",
    "```\n",
    "\n",
    "which produces a random maze of size `n`-by-`n` using the following algorithm:\n",
    "\n",
    "1. Initialize `H` and `V` to matrices of `trues` (that is, assume all cells have walls on all sides)\n",
    "2. Also initialize an array `visit` to a matrix of `falses`, to keep track of cells that have been visited\n",
    "3. Create a function `dig(x,y)` which loops over the four directions (Right, Left, Up, Down) in a random order. For each direction, if the neighbor cell is valid and not visited, remove the corresponding wall from `H` or `V` and run the `dig` function recursively on the neighbor cell.\n",
    "4. Call `dig(1,1)` and return `H,V`"
   ]
  },
  {
   "cell_type": "code",
   "execution_count": 39,
   "id": "d1f27536",
   "metadata": {},
   "outputs": [
    {
     "data": {
      "text/plain": [
       "make_maze (generic function with 1 method)"
      ]
     },
     "execution_count": 39,
     "metadata": {},
     "output_type": "execute_result"
    }
   ],
   "source": [
    "function make_maze(n)\n",
    "    H = trues(n, n - 1)\n",
    "    V = trues(n - 1, n)\n",
    "    \n",
    "    visit = falses(n, n)\n",
    "    \n",
    "    function dig(x, y)\n",
    "        visit[x, y] = true\n",
    "        directions = shuffle(1:4)\n",
    "        \n",
    "        for dir in directions\n",
    "            if dir == 1 && x < n && !visit[x+1, y] #Right\n",
    "                V[x, y] = !V[x, y]\n",
    "                dig(x + 1, y)\n",
    "            elseif dir == 2 && x > 1 && !visit[x - 1, y] # Left\n",
    "                V[x - 1, y] = false\n",
    "                dig(x - 1, y)\n",
    "            elseif dir == 3 && y < n && !visit[x, y+1] # Up\n",
    "                H[x, y] = false\n",
    "                dig(x, y+1)\n",
    "            elseif dir == 4 && y > 1 && !visit[x, y-1] #Down\n",
    "                H[x, y-1] = false\n",
    "                dig(x, y-1)\n",
    "            end\n",
    "        end\n",
    "    end\n",
    "    \n",
    "    dig(1, 1)\n",
    "    \n",
    "    return [H, V]\n",
    "    \n",
    "end"
   ]
  },
  {
   "cell_type": "code",
   "execution_count": 46,
   "id": "216bac55",
   "metadata": {},
   "outputs": [
    {
     "data": {
      "text/plain": [
       "2-element Vector{BitMatrix}:\n",
       " [0 1 0 0; 1 1 1 0; … ; 1 1 1 1; 0 0 1 0]\n",
       " [1 0 … 0 1; 0 0 … 1 0; 0 0 … 0 0; 0 0 … 0 0]"
      ]
     },
     "execution_count": 46,
     "metadata": {},
     "output_type": "execute_result"
    }
   ],
   "source": [
    "A, B = make_maze(5)"
   ]
  },
  {
   "cell_type": "code",
   "execution_count": 47,
   "id": "b6ddd56b",
   "metadata": {},
   "outputs": [
    {
     "data": {
      "image/png": "[encoded data removed]",
      "text/plain": [
       "Figure(PyObject <Figure size 640x480 with 1 Axes>)"
      ]
     },
     "metadata": {},
     "output_type": "display_data"
    }
   ],
   "source": [
    "plot_maze(A, B)\n",
    "plot_cell_indices(size(A,1))"
   ]
  },
  {
   "cell_type": "markdown",
   "id": "45b51c34",
   "metadata": {},
   "source": [
    "### Problem 2 - Find path from `1,n` to `n,1`\n",
    "\n",
    "Next, write a function with the syntax\n",
    "\n",
    "```julia\n",
    "pathx, pathy = find_path(H,V)\n",
    "```\n",
    "\n",
    "which finds a path in the maze `H,V` between the coordinates `1,n` and `n,1` using the following algorithm:\n",
    "\n",
    "1. Again create an array `visit` to keep track of visited cells\n",
    "2. Also initialize empty vectors `pathx,pathy` to store the final path\n",
    "3. Create a recursive function `recur(x,y)` which performs the following:\n",
    "   1. If the position `x==n` and `y==1` is found, insert these values into `pathx,pathy` and return `true`\n",
    "   2. Otherwise, consider each neighbor of `x,y`. If the cell is valid, the maze has no wall in that direction, and the cell has not been visited, apply `recur` to the neighbor cell.\n",
    "   3. If any of the calls to `recur` returns `true`, insert `x,y` into `pathx,pathy` and return `true`\n",
    "4. Call `recur(1,n)` and return `pathx,path`"
   ]
  },
  {
   "cell_type": "code",
   "execution_count": 63,
   "id": "ca8df6f9",
   "metadata": {},
   "outputs": [
    {
     "data": {
      "text/plain": [
       "find_path (generic function with 1 method)"
      ]
     },
     "execution_count": 63,
     "metadata": {},
     "output_type": "execute_result"
    }
   ],
   "source": [
    "function find_path(H, V)\n",
    "    n = size(H,1)\n",
    "    visit = falses(n, n)\n",
    "    pathx = Int64[]\n",
    "    pathy = Int64[]\n",
    "    \n",
    "    #= Structure of recursion:\n",
    "    1. Having a base case (stopping point)\n",
    "    2. Having recursive call\n",
    "    =#\n",
    "    \n",
    "    function recur(x, y)\n",
    "        visit[x, y] = true\n",
    "        \n",
    "        found = (x == n && y == 1)\n",
    "        \n",
    "        if !found && x < n && !visit[x+1, y] && !V[x, y] #Right\n",
    "            found = recur(x+1, y)\n",
    "        end\n",
    "        if !found && x > 1 && !visit[x-1, y] && !V[x-1, y] #Left\n",
    "            found = recur(x-1, y)\n",
    "        end\n",
    "        if !found && y < n && !visit[x, y+1] && !H[x, y] #Up\n",
    "            found = recur(x, y+1)\n",
    "        end\n",
    "        if !found && y > 1 && !visit[x, y-1] && !H[x, y-1] #Down\n",
    "            found = recur(x, y-1)\n",
    "        end\n",
    "        if found # Insert x,y to pathx, pathy\n",
    "            push!(pathx, x)\n",
    "            push!(pathy, y)\n",
    "        end\n",
    "        return found\n",
    "    end\n",
    "    \n",
    "    recur(1, n)\n",
    "    \n",
    "    return pathx, pathy\n",
    "    \n",
    "end"
   ]
  },
  {
   "cell_type": "code",
   "execution_count": 75,
   "id": "1f519c91",
   "metadata": {},
   "outputs": [
    {
     "data": {
      "text/plain": [
       "2-element Vector{BitMatrix}:\n",
       " [1 0 0 0; 1 0 0 1; … ; 0 1 1 0; 1 0 0 0]\n",
       " [0 0 … 1 0; 0 1 … 1 0; 1 1 … 0 1; 0 0 … 1 0]"
      ]
     },
     "execution_count": 75,
     "metadata": {},
     "output_type": "execute_result"
    }
   ],
   "source": [
    "A, B = make_maze(5)"
   ]
  },
  {
   "cell_type": "code",
   "execution_count": 76,
   "id": "a8cc2b09",
   "metadata": {},
   "outputs": [
    {
     "data": {
      "image/png": "[encoded data removed]",
      "text/plain": [
       "Figure(PyObject <Figure size 640x480 with 1 Axes>)"
      ]
     },
     "metadata": {},
     "output_type": "display_data"
    }
   ],
   "source": [
    "plot_maze(A, B)\n",
    "plot_cell_indices(size(A,1))"
   ]
  },
  {
   "cell_type": "code",
   "execution_count": 77,
   "id": "0be3de79",
   "metadata": {},
   "outputs": [
    {
     "data": {
      "text/plain": [
       "([5, 4, 4, 5, 5, 5, 5, 4, 4, 3, 3, 2, 1], [1, 1, 2, 2, 3, 4, 5, 5, 4, 4, 5, 5, 5])"
      ]
     },
     "execution_count": 77,
     "metadata": {},
     "output_type": "execute_result"
    }
   ],
   "source": [
    "ax, ay = find_path(A, B)"
   ]
  },
  {
   "cell_type": "code",
   "execution_count": 78,
   "id": "3ba8a5f0",
   "metadata": {},
   "outputs": [
    {
     "data": {
      "image/png": "[encoded data removed]",
      "text/plain": [
       "Figure(PyObject <Figure size 640x480 with 1 Axes>)"
      ]
     },
     "metadata": {},
     "output_type": "display_data"
    }
   ],
   "source": [
    "plot_maze(A,B);\n",
    "plot(ax .- 0.5, ay .- 0.5, color=\"r\", linewidth=4);"
   ]
  },
  {
   "cell_type": "markdown",
   "id": "273c1a37",
   "metadata": {},
   "source": [
    "### Problem 3 - Large maze test\n",
    "\n",
    "Finally, run the code below to illustrate your codes."
   ]
  },
  {
   "cell_type": "code",
   "execution_count": 79,
   "id": "84c05281",
   "metadata": {},
   "outputs": [
    {
     "data": {
      "image/png": "[encoded data removed]",
      "text/plain": [
       "Figure(PyObject <Figure size 640x480 with 1 Axes>)"
      ]
     },
     "metadata": {},
     "output_type": "display_data"
    }
   ],
   "source": [
    "n = 25\n",
    "H,V = make_maze(n)\n",
    "plot_maze(H,V)"
   ]
  },
  {
   "cell_type": "code",
   "execution_count": 80,
   "id": "bd22579a",
   "metadata": {},
   "outputs": [
    {
     "data": {
      "image/png": "[encoded data removed]",
      "text/plain": [
       "Figure(PyObject <Figure size 640x480 with 1 Axes>)"
      ]
     },
     "metadata": {},
     "output_type": "display_data"
    }
   ],
   "source": [
    "plot_maze(H,V)\n",
    "x, y = find_path(H,V)\n",
    "plot(x .- 0.5, y .- 0.5, color=\"r\", linewidth=4);"
   ]
  },
  {
   "cell_type": "code",
   "execution_count": null,
   "id": "12321b22",
   "metadata": {},
   "outputs": [],
   "source": []
  }
 ],
 "metadata": {
  "kernelspec": {
   "display_name": "Julia 1.6.3",
   "language": "julia",
   "name": "julia-1.6"
  },
  "language_info": {
   "file_extension": ".jl",
   "mimetype": "application/julia",
   "name": "julia",
   "version": "1.6.3"
  }
 },
 "nbformat": 4,
 "nbformat_minor": 5
}
